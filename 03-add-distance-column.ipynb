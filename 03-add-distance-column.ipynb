{
 "cells": [
  {
   "cell_type": "markdown",
   "metadata": {},
   "source": [
    "# Total Distance Using Haversine Function"
   ]
  },
  {
   "cell_type": "code",
   "execution_count": 2,
   "metadata": {},
   "outputs": [],
   "source": [
    "import pandas as pd\n",
    "import numpy as np\n",
    "\n",
    "df = pd.read_csv('./filtered-data.csv')\n",
    "hand = df[df[\"type\"] == \"hand\"]\n",
    "ankle = df[df[\"type\"] == \"ankle\"]\n",
    "pocket = df[df[\"type\"] == \"pocket\"]\n",
    "\n",
    "def haversine(lat1, lon1, lat2, lon2):\n",
    "    R = 6371  # radius of the earth in kilometers\n",
    "    phi1 = np.radians(lat1)\n",
    "    phi2 = np.radians(lat2)\n",
    "    delta_phi = np.radians(lat2 - lat1)\n",
    "    delta_lambda = np.radians(lon2 - lon1)\n",
    "    a = np.sin(delta_phi / 2) ** 2 + np.cos(phi1) * np.cos(phi2) * np.sin(delta_lambda / 2) ** 2\n",
    "    c = 2 * np.arctan2(np.sqrt(a), np.sqrt(1 - a))\n",
    "    d = R * c\n",
    "    return d * 1000 # distance in meters\n",
    "\n",
    "def calculateDistance(data):\n",
    "    df = data.copy()\n",
    "    df[\"lat_diff\"] = df[\"lon\"].diff()\n",
    "    df[\"lon_diff\"] = df[\"lat\"].diff()\n",
    "    df[\"distance\"] = df.apply(lambda x: haversine(x[\"lat\"], x[\"lon\"], x[\"lat\"] + x[\"lat_diff\"], x[\"lon\"] + x[\"lon_diff\"]), axis=1)\n",
    "    return df\n",
    "\n",
    "hand = calculateDistance(hand)\n",
    "ankle = calculateDistance(ankle)\n",
    "pocket = calculateDistance(pocket)\n",
    "\n",
    "df = pd.concat([hand, pocket, ankle], ignore_index=True)\n",
    "df = df[df['distance'].notna()].drop(columns=[\"lat_diff\", \"lon_diff\"])\n",
    "df.to_csv(\"analysis-data.csv\", index=False)"
   ]
  }
 ],
 "metadata": {
  "kernelspec": {
   "display_name": "Python 3 (ipykernel)",
   "language": "python",
   "name": "python3"
  },
  "language_info": {
   "codemirror_mode": {
    "name": "ipython",
    "version": 3
   },
   "file_extension": ".py",
   "mimetype": "text/x-python",
   "name": "python",
   "nbconvert_exporter": "python",
   "pygments_lexer": "ipython3",
   "version": "3.9.13"
  },
  "vscode": {
   "interpreter": {
    "hash": "68fb280db4c6f94b73808a11d4a62a34f5b4e3fa287d991e36bb229c61b78d1d"
   }
  }
 },
 "nbformat": 4,
 "nbformat_minor": 2
}
