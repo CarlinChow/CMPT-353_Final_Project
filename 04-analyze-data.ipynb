{
 "cells": [
  {
   "cell_type": "code",
   "execution_count": 1,
   "metadata": {},
   "outputs": [],
   "source": [
    "import pandas as pd\n",
    "import numpy as np\n",
    "from scipy import stats\n",
    "from statsmodels.stats.multicomp import pairwise_tukeyhsd\n",
    "import random\n",
    "import matplotlib.pyplot as plt"
   ]
  },
  {
   "cell_type": "code",
   "execution_count": 2,
   "metadata": {},
   "outputs": [],
   "source": [
    "# initialize variables and divide into separate datasets\n",
    "df = pd.read_csv(\"analysis-data.csv\")\n",
    "hand = df[df[\"type\"] == \"hand\"]\n",
    "ankle = df[df[\"type\"] == \"ankle\"]\n",
    "pocket = df[df[\"type\"] == \"pocket\"]"
   ]
  },
  {
   "cell_type": "markdown",
   "metadata": {},
   "source": [
    "# Anova Model"
   ]
  },
  {
   "cell_type": "code",
   "execution_count": 3,
   "metadata": {},
   "outputs": [
    {
     "name": "stdout",
     "output_type": "stream",
     "text": [
      "ANOVA P-VALUE: 4.179433169017044e-47\n"
     ]
    }
   ],
   "source": [
    "#perform one-way ANOVA\n",
    "res = stats.f_oneway(hand[\"atotal\"], ankle[\"atotal\"], pocket[\"atotal\"])\n",
    "print( \"ANOVA P-VALUE: \" + str(res.pvalue))"
   ]
  },
  {
   "cell_type": "markdown",
   "metadata": {},
   "source": [
    "# Pairwise Tukey’s Test On Velocity Mean"
   ]
  },
  {
   "cell_type": "code",
   "execution_count": 4,
   "metadata": {},
   "outputs": [
    {
     "name": "stdout",
     "output_type": "stream",
     "text": [
      "Multiple Comparison of Means - Tukey HSD, FWER=0.05\n",
      "===================================================\n",
      "group1 group2 meandiff p-adj  lower   upper  reject\n",
      "---------------------------------------------------\n",
      " ankle   hand   2.2542   0.0  1.7559  2.7524   True\n",
      " ankle pocket  -1.1317   0.0 -1.6556 -0.6078   True\n",
      "  hand pocket  -3.3859   0.0  -3.911 -2.8608   True\n",
      "---------------------------------------------------\n"
     ]
    },
    {
     "data": {
      "image/png": "[encoded data removed]",
      "text/plain": [
       "<Figure size 1000x600 with 1 Axes>"
      ]
     },
     "metadata": {},
     "output_type": "display_data"
    }
   ],
   "source": [
    "x_melt = pd.DataFrame(df[[\"type\", \"atotal\"]])\n",
    "x_melt.rename(columns={\"atotal\": \"value\", \"type\": \"variable\"}, inplace=True)\n",
    "\n",
    "posthoc = pairwise_tukeyhsd(\n",
    "    x_melt['value'], x_melt['variable'],\n",
    "    alpha=0.05)\n",
    "\n",
    "print(posthoc.summary())\n",
    "fig = posthoc.plot_simultaneous()\n",
    "plt.show()"
   ]
  },
  {
   "cell_type": "markdown",
   "metadata": {},
   "source": [
    "# T-Test on Velocity Means (Atotal)\n"
   ]
  },
  {
   "cell_type": "code",
   "execution_count": 5,
   "metadata": {},
   "outputs": [
    {
     "name": "stdout",
     "output_type": "stream",
     "text": [
      "T-Test between the velocities of ANKLE and POCKET: 0.1689354529596091\n",
      "T-Test between the velocities of ANKLE and HAND: 0.07792751846863388\n",
      "T-Test between the velocities of HAND and POCKET: 0.1689354529596091\n"
     ]
    }
   ],
   "source": [
    "def ttest_on_velocity(df1, df2):\n",
    "    ax_p_val = stats.ttest_ind(df1['ax'], df2['ax']).pvalue\n",
    "    ay_p_val = stats.ttest_ind(df1['ay'], df2['ay']).pvalue\n",
    "    az_p_val = stats.ttest_ind(df1['az'], df2['az']).pvalue\n",
    "    \n",
    "    return (ax_p_val + ay_p_val + az_p_val) / 3\n",
    "\n",
    "ankle_pocket = ttest_on_velocity(ankle, pocket)\n",
    "ankle_hand = ttest_on_velocity(ankle, hand)\n",
    "hand_pocket = ttest_on_velocity(hand,pocket)\n",
    "\n",
    "print(f\"T-Test between the velocities of ANKLE and POCKET: {ankle_pocket}\")\n",
    "print(f\"T-Test between the velocities of ANKLE and HAND: {ankle_hand}\")\n",
    "print(f\"T-Test between the velocities of HAND and POCKET: {ankle_pocket}\")\n"
   ]
  },
  {
   "cell_type": "markdown",
   "metadata": {},
   "source": [
    "# Distance Comparision"
   ]
  },
  {
   "cell_type": "code",
   "execution_count": 6,
   "metadata": {},
   "outputs": [
    {
     "name": "stdout",
     "output_type": "stream",
     "text": [
      "total distance traveled for hand 589.3598371490518 meters\n",
      "total distance traveled for ankle 544.1351736869123 meters\n",
      "total distance traveled for pocket 528.8729096769846 meters\n"
     ]
    }
   ],
   "source": [
    "print(\"total distance traveled for hand \" + str(hand[\"distance\"].sum()) + \" meters\")\n",
    "print(\"total distance traveled for ankle \" + str(ankle[\"distance\"].sum()) + \" meters\")\n",
    "print(\"total distance traveled for pocket \" + str(pocket[\"distance\"].sum()) + \" meters\")"
   ]
  },
  {
   "cell_type": "markdown",
   "metadata": {},
   "source": [
    "# Linear Regression on the Datasets"
   ]
  },
  {
   "cell_type": "code",
   "execution_count": 7,
   "metadata": {},
   "outputs": [
    {
     "name": "stdout",
     "output_type": "stream",
     "text": [
      "Hand:\n",
      "0.012167624604930039 0.4873042675194386 -20325033.481958065\n",
      "Ankle:\n",
      "0.006547917757426976 0.16980244694779953 -10938519.244304502\n",
      "Pocket:\n",
      "-0.023824975420905822 -0.8371908192494839 39800441.0346986\n"
     ]
    }
   ],
   "source": [
    "def lin_time_atotal(df1):\n",
    "    df1 = df1.copy()\n",
    "    df1['time'] = pd.to_datetime(df1['time'])\n",
    "    df1['time'] = pd.to_datetime(df1['time'],unit='s')\n",
    "    df1['time'] = df1.time.astype('int64') // 10**9\n",
    "\n",
    "    reg = stats.linregress(df1['time'], df1['atotal'])\n",
    "    return reg\n",
    "\n",
    "reg = lin_time_atotal(hand)\n",
    "print(\"Hand:\")\n",
    "print(reg.slope, reg.rvalue, reg.intercept)\n",
    "reg = lin_time_atotal(ankle)\n",
    "print(\"Ankle:\")\n",
    "print(reg.slope, reg.rvalue, reg.intercept)\n",
    "reg = lin_time_atotal(pocket)\n",
    "print(\"Pocket:\")\n",
    "print(reg.slope, reg.rvalue, reg.intercept)"
   ]
  },
  {
   "cell_type": "markdown",
   "metadata": {},
   "source": [
    "# Mann Whitney U-Test\n"
   ]
  },
  {
   "cell_type": "code",
   "execution_count": 8,
   "metadata": {},
   "outputs": [
    {
     "name": "stdout",
     "output_type": "stream",
     "text": [
      "Hand vs Ankle Mann Whiteney p-values on lon and lat: \n",
      "(0.3817253316618108, 0.0060896501986214555)\n",
      "Ankle vs Pocket Mann Whiteney p-values on lon and lat: \n",
      "(0.9933851377639636, 0.7197576855373216)\n",
      "Hand vs Pocket Mann Whiteney p-values on lon and lat: \n",
      "(0.4835673575285756, 0.19340342614073136)\n"
     ]
    }
   ],
   "source": [
    "def mannwhitneyu_test(df1, df2):\n",
    "    lon_pval = stats.mannwhitneyu(df1['lon'], df2['lon'], alternative='two-sided').pvalue\n",
    "    lat_pval = stats.mannwhitneyu(df1['lat'], df2['lat'], alternative='two-sided').pvalue\n",
    "    return (lon_pval, lat_pval)\n",
    "\n",
    "manwhit_hand_ankle = mannwhitneyu_test(hand, ankle)\n",
    "manwhit_hand_pocket = mannwhitneyu_test(hand, pocket)\n",
    "manwhit_ankle_pocket = mannwhitneyu_test(ankle, pocket)\n",
    "\n",
    "print(\"Hand vs Ankle Mann Whiteney p-values on lon and lat: \")\n",
    "print(manwhit_hand_ankle)\n",
    "print(\"Ankle vs Pocket Mann Whiteney p-values on lon and lat: \")\n",
    "print(manwhit_ankle_pocket)\n",
    "print(\"Hand vs Pocket Mann Whiteney p-values on lon and lat: \")\n",
    "print(manwhit_hand_pocket)"
   ]
  }
 ],
 "metadata": {
  "kernelspec": {
   "display_name": "Python 3 (ipykernel)",
   "language": "python",
   "name": "python3"
  },
  "language_info": {
   "codemirror_mode": {
    "name": "ipython",
    "version": 3
   },
   "file_extension": ".py",
   "mimetype": "text/x-python",
   "name": "python",
   "nbconvert_exporter": "python",
   "pygments_lexer": "ipython3",
   "version": "3.9.13 (main, Oct 13 2022, 16:12:30) \n[Clang 12.0.0 ]"
  },
  "vscode": {
   "interpreter": {
    "hash": "68fb280db4c6f94b73808a11d4a62a34f5b4e3fa287d991e36bb229c61b78d1d"
   }
  }
 },
 "nbformat": 4,
 "nbformat_minor": 2
}
