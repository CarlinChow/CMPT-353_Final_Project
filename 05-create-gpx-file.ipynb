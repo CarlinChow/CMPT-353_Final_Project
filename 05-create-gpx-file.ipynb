{
 "cells": [
  {
   "cell_type": "code",
   "execution_count": 1,
   "id": "4b473f93",
   "metadata": {},
   "outputs": [],
   "source": [
    "import sys\n",
    "import pandas as pd\n",
    "import numpy as np\n",
    "import xml.etree.ElementTree as ET"
   ]
  },
  {
   "cell_type": "code",
   "execution_count": 2,
   "id": "a8fefffb",
   "metadata": {},
   "outputs": [],
   "source": [
    "def output_gpx(points, output_filename): \n",
    "    # from exercise 3 of CMPT 353\n",
    "    \"\"\"\n",
    "    Output a GPX file with latitude and longitude from the points DataFrame.\n",
    "    \"\"\"\n",
    "    from xml.dom.minidom import getDOMImplementation\n",
    "    def append_trkpt(pt, trkseg, doc):\n",
    "        trkpt = doc.createElement('trkpt')\n",
    "        trkpt.setAttribute('lat', '%.7f' % (pt['lat']))\n",
    "        trkpt.setAttribute('lon', '%.7f' % (pt['lon']))\n",
    "        trkseg.appendChild(trkpt)\n",
    "    \n",
    "    doc = getDOMImplementation().createDocument(None, 'gpx', None)\n",
    "    trk = doc.createElement('trk')\n",
    "    doc.documentElement.appendChild(trk)\n",
    "    trkseg = doc.createElement('trkseg')\n",
    "    trk.appendChild(trkseg)\n",
    "    \n",
    "    points.apply(append_trkpt, axis=1, trkseg=trkseg, doc=doc)\n",
    "    \n",
    "    with open(output_filename, 'w') as fh:\n",
    "        doc.writexml(fh, indent=' ')\n"
   ]
  },
  {
   "cell_type": "code",
   "execution_count": 3,
   "id": "df825585",
   "metadata": {},
   "outputs": [],
   "source": [
    "df = pd.read_csv('analysis-data.csv').set_index(\"time\")\n",
    "hand = df[df[\"type\"] == \"hand\"]\n",
    "ankle = df[df[\"type\"] == \"ankle\"]\n",
    "pocket = df[df[\"type\"] == \"pocket\"]\n",
    "\n",
    "output_gpx(hand[[\"lat\", \"lon\"]], \"hand-gps.data.gpx\")\n",
    "output_gpx(ankle[[\"lat\", \"lon\"]], \"ankle-gps.data.gpx\")\n",
    "output_gpx(pocket[[\"lat\", \"lon\"]], \"pocket-gps.data.gpx\")"
   ]
  }
 ],
 "metadata": {
  "kernelspec": {
   "display_name": "base",
   "language": "python",
   "name": "python3"
  },
  "language_info": {
   "codemirror_mode": {
    "name": "ipython",
    "version": 3
   },
   "file_extension": ".py",
   "mimetype": "text/x-python",
   "name": "python",
   "nbconvert_exporter": "python",
   "pygments_lexer": "ipython3",
   "version": "3.9.13 (main, Oct 13 2022, 16:12:30) \n[Clang 12.0.0 ]"
  },
  "vscode": {
   "interpreter": {
    "hash": "68fb280db4c6f94b73808a11d4a62a34f5b4e3fa287d991e36bb229c61b78d1d"
   }
  }
 },
 "nbformat": 4,
 "nbformat_minor": 5
}
